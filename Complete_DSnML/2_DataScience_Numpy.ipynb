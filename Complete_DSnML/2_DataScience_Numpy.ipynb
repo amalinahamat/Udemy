{
 "cells": [
  {
   "cell_type": "markdown",
   "metadata": {},
   "source": [
    "DATA SCIENCE => NUMPY"
   ]
  },
  {
   "cell_type": "code",
   "execution_count": 4,
   "metadata": {},
   "outputs": [
    {
     "name": "stdout",
     "output_type": "stream",
     "text": [
      "Defaulting to user installation because normal site-packages is not writeable\n",
      "Requirement already satisfied: numpy in c:\\users\\legion\\appdata\\roaming\\python\\python312\\site-packages (2.0.0)\n",
      "Note: you may need to restart the kernel to use updated packages.\n"
     ]
    }
   ],
   "source": [
    "# INSTALL NUMPY\n",
    "\n",
    "%pip install numpy"
   ]
  },
  {
   "cell_type": "code",
   "execution_count": 5,
   "metadata": {},
   "outputs": [],
   "source": [
    "# import numpy\n",
    "\n",
    "import numpy as np"
   ]
  },
  {
   "cell_type": "code",
   "execution_count": 11,
   "metadata": {},
   "outputs": [
    {
     "name": "stdout",
     "output_type": "stream",
     "text": [
      "1\n",
      "[1 2]\n",
      "[[1 2]\n",
      " [2 5]]\n",
      "[[[1 2]\n",
      "  [3 4]]]\n"
     ]
    }
   ],
   "source": [
    "# 1d -- 1 dimensional array\n",
    "\n",
    "n = np.array(1)     # 0 dimensional array\n",
    "print(n)\n",
    "\n",
    "n = np.array([1,2]) # 1 square bracket  = 1 dimensional array\n",
    "print(n)\n",
    "\n",
    "n = np.array([[1,2],[2,5]])  # 2 square bracket =  2 dimensional array\n",
    "print(n)\n",
    "\n",
    "n = np.array([[[1,2],[3,4]]])   # 3 square bracket = 3 dimensional array\n",
    "print(n)"
   ]
  },
  {
   "cell_type": "markdown",
   "metadata": {},
   "source": [
    "DTYPE => DATATYPE IN NUMPY"
   ]
  },
  {
   "cell_type": "code",
   "execution_count": 14,
   "metadata": {},
   "outputs": [
    {
     "name": "stdout",
     "output_type": "stream",
     "text": [
      "[2 1]\n",
      "int64\n",
      "[2. 1.]\n",
      "float64\n",
      "['2' '1']\n",
      "<U1\n"
     ]
    }
   ],
   "source": [
    "n = np.array([2,1])\n",
    "print(n)\n",
    "print(n.dtype)\n",
    "\n",
    "# type casting\n",
    "\n",
    "n = np.array([2,1], dtype = float)\n",
    "print(n)\n",
    "print(n.dtype)\n",
    "\n",
    "n = np.array([2,1], dtype = str)\n",
    "print(n)\n",
    "print(n.dtype)"
   ]
  },
  {
   "cell_type": "markdown",
   "metadata": {},
   "source": [
    "NDIM --> FIND DIEMNSION OF ARRAY"
   ]
  },
  {
   "cell_type": "code",
   "execution_count": 15,
   "metadata": {},
   "outputs": [
    {
     "name": "stdout",
     "output_type": "stream",
     "text": [
      "3\n"
     ]
    }
   ],
   "source": [
    "n = np.array([[[1,2],[3,4]]])\n",
    "print(n.ndim)"
   ]
  },
  {
   "cell_type": "markdown",
   "metadata": {},
   "source": [
    "ARANGE IN NUMPY"
   ]
  }
 ],
 "metadata": {
  "kernelspec": {
   "display_name": "Python 3",
   "language": "python",
   "name": "python3"
  },
  "language_info": {
   "codemirror_mode": {
    "name": "ipython",
    "version": 3
   },
   "file_extension": ".py",
   "mimetype": "text/x-python",
   "name": "python",
   "nbconvert_exporter": "python",
   "pygments_lexer": "ipython3",
   "version": "3.12.3"
  }
 },
 "nbformat": 4,
 "nbformat_minor": 2
}
