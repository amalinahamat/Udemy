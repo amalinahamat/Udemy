{
 "cells": [
  {
   "cell_type": "markdown",
   "metadata": {},
   "source": [
    "DATA SCIENCE => NUMPY"
   ]
  },
  {
   "cell_type": "code",
   "execution_count": 3,
   "metadata": {},
   "outputs": [
    {
     "name": "stdout",
     "output_type": "stream",
     "text": [
      "Defaulting to user installation because normal site-packages is not writeable\n",
      "Requirement already satisfied: numpy in c:\\users\\legion\\appdata\\roaming\\python\\python312\\site-packages (2.0.0)\n",
      "Note: you may need to restart the kernel to use updated packages.\n"
     ]
    }
   ],
   "source": [
    "# INSTALL NUMPY\n",
    "\n",
    "%pip install numpy"
   ]
  },
  {
   "cell_type": "code",
   "execution_count": 4,
   "metadata": {},
   "outputs": [],
   "source": [
    "# import numpy\n",
    "\n",
    "import numpy as np"
   ]
  },
  {
   "cell_type": "code",
   "execution_count": 5,
   "metadata": {},
   "outputs": [
    {
     "name": "stdout",
     "output_type": "stream",
     "text": [
      "1\n",
      "[1 2]\n",
      "[[1 2]\n",
      " [2 5]]\n",
      "[[[1 2]\n",
      "  [3 4]]]\n"
     ]
    }
   ],
   "source": [
    "# 1d -- 1 dimensional array\n",
    "\n",
    "n = np.array(1)     # 0 dimensional array\n",
    "print(n)\n",
    "\n",
    "n = np.array([1,2]) # 1 square bracket  = 1 dimensional array\n",
    "print(n)\n",
    "\n",
    "n = np.array([[1,2],[2,5]])  # 2 square bracket =  2 dimensional array\n",
    "print(n)\n",
    "\n",
    "n = np.array([[[1,2],[3,4]]])   # 3 square bracket = 3 dimensional array\n",
    "print(n)"
   ]
  },
  {
   "cell_type": "markdown",
   "metadata": {},
   "source": [
    "DTYPE => DATATYPE IN NUMPY"
   ]
  },
  {
   "cell_type": "code",
   "execution_count": 6,
   "metadata": {},
   "outputs": [
    {
     "name": "stdout",
     "output_type": "stream",
     "text": [
      "[2 1]\n",
      "int64\n",
      "[2. 1.]\n",
      "float64\n",
      "['2' '1']\n",
      "<U1\n"
     ]
    }
   ],
   "source": [
    "n = np.array([2,1])\n",
    "print(n)\n",
    "print(n.dtype)\n",
    "\n",
    "# type casting\n",
    "\n",
    "n = np.array([2,1], dtype = float)\n",
    "print(n)\n",
    "print(n.dtype)\n",
    "\n",
    "n = np.array([2,1], dtype = str)\n",
    "print(n)\n",
    "print(n.dtype)"
   ]
  },
  {
   "cell_type": "markdown",
   "metadata": {},
   "source": [
    "NDIM --> FIND DIEMNSION OF ARRAY"
   ]
  },
  {
   "cell_type": "code",
   "execution_count": 7,
   "metadata": {},
   "outputs": [
    {
     "name": "stdout",
     "output_type": "stream",
     "text": [
      "3\n"
     ]
    }
   ],
   "source": [
    "n = np.array([[[1,2],[3,4]]])\n",
    "print(n.ndim)"
   ]
  },
  {
   "cell_type": "markdown",
   "metadata": {},
   "source": [
    "ARANGE IN NUMPY"
   ]
  },
  {
   "cell_type": "code",
   "execution_count": 15,
   "metadata": {},
   "outputs": [
    {
     "name": "stdout",
     "output_type": "stream",
     "text": [
      "[0 1 2 3 4 5 6 7 8 9]\n"
     ]
    }
   ],
   "source": [
    "# create array in range\n",
    "\n",
    "n = np.arange(10)   # 10 element array is created\n",
    "\n",
    "print(n)"
   ]
  },
  {
   "cell_type": "markdown",
   "metadata": {},
   "source": [
    "CONCATENATE FUNCTION --> COMBINE ARRAYS"
   ]
  },
  {
   "cell_type": "code",
   "execution_count": 16,
   "metadata": {},
   "outputs": [
    {
     "name": "stdout",
     "output_type": "stream",
     "text": [
      "[2 5 1 4]\n"
     ]
    }
   ],
   "source": [
    "n = np.array([1,4])\n",
    "a = np.array([2,5])\n",
    "\n",
    "b = np.concatenate((a,n))\n",
    "print(b)"
   ]
  },
  {
   "cell_type": "markdown",
   "metadata": {},
   "source": [
    "NDMIN FUNCTION --> DEFINE NO OF DIMENSIONAS FOR NUMPY"
   ]
  },
  {
   "cell_type": "code",
   "execution_count": 17,
   "metadata": {},
   "outputs": [
    {
     "name": "stdout",
     "output_type": "stream",
     "text": [
      "[[[[[[[[[[1 2]]]]]]]]]]\n",
      "10\n"
     ]
    }
   ],
   "source": [
    "a = np.array([1,2], ndmin = 10)     # 1D ==> 10 D\n",
    "\n",
    "print(a)\n",
    "print(a.ndim)"
   ]
  },
  {
   "cell_type": "markdown",
   "metadata": {},
   "source": [
    "NDITER --> ITERATE ELEMENTS IN NUMPY ARRAY"
   ]
  },
  {
   "cell_type": "code",
   "execution_count": 21,
   "metadata": {},
   "outputs": [
    {
     "name": "stdout",
     "output_type": "stream",
     "text": [
      "[1 2 6 3 6 3 8 2]\n",
      "1\n",
      "2\n",
      "6\n",
      "3\n",
      "6\n",
      "3\n",
      "8\n",
      "2\n",
      "\n",
      "2\n",
      "6\n",
      "6\n",
      "8\n",
      "2\n"
     ]
    }
   ],
   "source": [
    "a = np.array([1,2,6,3,6,3,8,2])\n",
    "\n",
    "print(a)\n",
    "\n",
    "for i in np.nditer(a):\n",
    "    print(i)\n",
    "\n",
    "print()\n",
    "\n",
    "for i in np.nditer(a):\n",
    "    if(i%2 == 0):\n",
    "        print(i)"
   ]
  },
  {
   "cell_type": "markdown",
   "metadata": {},
   "source": [
    "Numpy = ALL FUCNTIONS"
   ]
  },
  {
   "cell_type": "code",
   "execution_count": 23,
   "metadata": {},
   "outputs": [
    {
     "name": "stdout",
     "output_type": "stream",
     "text": [
      "[1 5]\n",
      "[1 5]\n"
     ]
    }
   ],
   "source": [
    "# 1. COPY FUNCTION\n",
    "\n",
    "x = np.array([1,5])\n",
    "\n",
    "z = x.copy()\n",
    "\n",
    "print(x)\n",
    "print(z)"
   ]
  },
  {
   "cell_type": "code",
   "execution_count": 27,
   "metadata": {},
   "outputs": [
    {
     "name": "stdout",
     "output_type": "stream",
     "text": [
      "[1 4]\n",
      "[2 9]\n",
      "[[1 5]\n",
      " [3 6]]\n",
      "[[7 5]\n",
      " [3 6]]\n"
     ]
    }
   ],
   "source": [
    "# 2. CHANGE VALUES IN NUMPY\n",
    "\n",
    "a = np.array([1,4])\n",
    "\n",
    "print(a)\n",
    "\n",
    "a[0] = 2\n",
    "a[1] = 9\n",
    "\n",
    "print(a)\n",
    "\n",
    "n = np.array([[1,5],[3,6]])\n",
    "print(n)\n",
    "\n",
    "n[0,0] = 7\n",
    "print(n)"
   ]
  },
  {
   "cell_type": "code",
   "execution_count": 30,
   "metadata": {},
   "outputs": [
    {
     "name": "stdout",
     "output_type": "stream",
     "text": [
      "[2 1]\n",
      "[1 2]\n",
      "[[3 1]\n",
      " [4 6]]\n",
      "[[1 3]\n",
      " [4 6]]\n"
     ]
    }
   ],
   "source": [
    "# 3. SORT IN NUMPY\n",
    "\n",
    "a = np.array([2,1])\n",
    "print(a)\n",
    "\n",
    "print(np.sort(a, axis = 0))  # column sort in 1d\n",
    "\n",
    "b = np.array([[3,1],[4,6]])\n",
    "print(b)\n",
    "print(np.sort(b, axis = 1))  # row sort in 2d"
   ]
  },
  {
   "cell_type": "code",
   "execution_count": 32,
   "metadata": {},
   "outputs": [
    {
     "name": "stdout",
     "output_type": "stream",
     "text": [
      "(array([1]),)\n",
      "(array([0]),)\n"
     ]
    }
   ],
   "source": [
    "# 4. SEARCH --> SEARCH ELEMENTS IN NUMPY\n",
    "\n",
    "a = np.array([1,2])\n",
    "\n",
    "x = np.where(a == 2)\n",
    "print(x)       # index position of the value\n",
    "\n",
    "y = np.where(a == 1)\n",
    "print(y)  "
   ]
  },
  {
   "cell_type": "markdown",
   "metadata": {},
   "source": [
    "PANDAS"
   ]
  },
  {
   "cell_type": "code",
   "execution_count": null,
   "metadata": {},
   "outputs": [],
   "source": [
    "# IMPORT DATASET\n",
    "\n"
   ]
  }
 ],
 "metadata": {
  "kernelspec": {
   "display_name": "Python 3",
   "language": "python",
   "name": "python3"
  },
  "language_info": {
   "codemirror_mode": {
    "name": "ipython",
    "version": 3
   },
   "file_extension": ".py",
   "mimetype": "text/x-python",
   "name": "python",
   "nbconvert_exporter": "python",
   "pygments_lexer": "ipython3",
   "version": "3.12.3"
  }
 },
 "nbformat": 4,
 "nbformat_minor": 2
}
