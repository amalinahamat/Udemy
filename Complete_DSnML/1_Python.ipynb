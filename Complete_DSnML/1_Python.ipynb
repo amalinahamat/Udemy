{
 "cells": [
  {
   "cell_type": "markdown",
   "metadata": {},
   "source": [
    "VARIABLES IN PYTHON"
   ]
  },
  {
   "cell_type": "code",
   "execution_count": 6,
   "metadata": {},
   "outputs": [
    {
     "name": "stdout",
     "output_type": "stream",
     "text": [
      "10\n",
      "5.46\n",
      "hanan\n",
      "lia\n",
      "<class 'int'>\n",
      "<class 'float'>\n",
      "<class 'str'>\n",
      "<class 'str'>\n"
     ]
    }
   ],
   "source": [
    "a = 10\n",
    "b = 5.46\n",
    "student_name1 = \"hanan\"\n",
    "student_name2 = \"lia\"\n",
    "\n",
    "print(a)\n",
    "print(b)\n",
    "print(student_name1)\n",
    "print(student_name2)\n",
    "\n",
    "# print(type(a))\n",
    "# print(type(b))\n",
    "# print(type(student_name1))\n",
    "# print(type(student_name2))"
   ]
  },
  {
   "cell_type": "markdown",
   "metadata": {},
   "source": [
    "KEYWORDS IN PYTHON"
   ]
  },
  {
   "cell_type": "code",
   "execution_count": 3,
   "metadata": {},
   "outputs": [
    {
     "name": "stdout",
     "output_type": "stream",
     "text": [
      "['False', 'None', 'True', 'and', 'as', 'assert', 'async', 'await', 'break', 'class', 'continue', 'def', 'del', 'elif', 'else', 'except', 'finally', 'for', 'from', 'global', 'if', 'import', 'in', 'is', 'lambda', 'nonlocal', 'not', 'or', 'pass', 'raise', 'return', 'try', 'while', 'with', 'yield']\n"
     ]
    }
   ],
   "source": [
    "import keyword\n",
    "print(keyword.kwlist) # kw is short term for keyword"
   ]
  },
  {
   "cell_type": "markdown",
   "metadata": {},
   "source": [
    "DATATYPES AND TYPE CASTING IN PYTHON"
   ]
  },
  {
   "cell_type": "code",
   "execution_count": 7,
   "metadata": {},
   "outputs": [
    {
     "name": "stdout",
     "output_type": "stream",
     "text": [
      "<class 'int'>\n",
      "<class 'float'>\n",
      "<class 'str'>\n",
      "<class 'bool'>\n",
      "<class 'list'>\n",
      "<class 'tuple'>\n",
      "<class 'dict'>\n"
     ]
    }
   ],
   "source": [
    "a = 10              # int \n",
    "b = 20.7            # float\n",
    "c = \"hello\"         # string\n",
    "d = True            # boolean\n",
    "e = [10, 20, 30]    # list\n",
    "f = (10,20,30)      # tuple\n",
    "g = {\"A\" : 10}      # dictionary -- key and value pairs\n",
    "\n",
    "print(type(a))\n",
    "print(type(b))\n",
    "print(type(c))\n",
    "print(type(d))\n",
    "print(type(e))\n",
    "print(type(f))\n",
    "print(type(g))"
   ]
  },
  {
   "cell_type": "markdown",
   "metadata": {},
   "source": [
    "type casting\n",
    "- convert one data type to another data type"
   ]
  },
  {
   "cell_type": "code",
   "execution_count": 9,
   "metadata": {},
   "outputs": [
    {
     "name": "stdout",
     "output_type": "stream",
     "text": [
      "10.0\n",
      "<class 'float'>\n",
      "(10, 20, 30)\n",
      "<class 'tuple'>\n"
     ]
    }
   ],
   "source": [
    "a = float(a)\n",
    "print(a)\n",
    "print(type(a))\n",
    "\n",
    "e = tuple(e)\n",
    "print(e)\n",
    "print(type(e))"
   ]
  },
  {
   "cell_type": "markdown",
   "metadata": {},
   "source": [
    "ID IN PYTHON - ADDRESS OF VALUE"
   ]
  },
  {
   "cell_type": "code",
   "execution_count": 1,
   "metadata": {},
   "outputs": [
    {
     "name": "stdout",
     "output_type": "stream",
     "text": [
      "140713423346392\n",
      "140713423346392\n",
      "140713423346392\n",
      "140713423346712\n"
     ]
    }
   ],
   "source": [
    "a =  10\n",
    "print(id(a))\n",
    "\n",
    "A = 10\n",
    "print(id(A))\n",
    "\n",
    "b = 10\n",
    "print(id(b))\n",
    "\n",
    "B = 20\n",
    "print(id(B))\n",
    "\n"
   ]
  },
  {
   "cell_type": "markdown",
   "metadata": {},
   "source": [
    "ARITHMETIC OPERATORS IN PYTHON"
   ]
  },
  {
   "cell_type": "code",
   "execution_count": 3,
   "metadata": {},
   "outputs": [
    {
     "name": "stdout",
     "output_type": "stream",
     "text": [
      "30\n",
      "10\n",
      "200\n",
      "2.0\n",
      "2\n",
      "0\n"
     ]
    }
   ],
   "source": [
    "a = 20 \n",
    "b = 10\n",
    "print(a + b)        # addition\n",
    "print(a - b)        # subtraction\n",
    "print(a * b)        # multiplication\n",
    "print(a / b)        # division -- whole\n",
    "print(a // b)       # floor division -- quotient\n",
    "print(a % b)        # modulus -- remainder"
   ]
  },
  {
   "cell_type": "markdown",
   "metadata": {},
   "source": [
    "LOGICAL OPERATORS IN PYTHON"
   ]
  },
  {
   "cell_type": "code",
   "execution_count": 4,
   "metadata": {},
   "outputs": [
    {
     "name": "stdout",
     "output_type": "stream",
     "text": [
      "True\n",
      "True\n",
      "False\n"
     ]
    }
   ],
   "source": [
    "# and or not ---booelan output (True/False)\n",
    "\n",
    "a = 10\n",
    "\n",
    "print(a >= 10 and a < 20)       # two conditions must satisfied\n",
    "print(a > 10 or a < 20)         # any one conditions must satisfied\n",
    "print(not(a >= 10 and a < 20))  # true becomes false and false becomes true"
   ]
  },
  {
   "cell_type": "markdown",
   "metadata": {},
   "source": [
    "COMPARISON OPERATORS IN PYTHON"
   ]
  },
  {
   "cell_type": "code",
   "execution_count": 6,
   "metadata": {},
   "outputs": [
    {
     "name": "stdout",
     "output_type": "stream",
     "text": [
      "False\n",
      "True\n",
      "False\n",
      "True\n",
      "False\n",
      "False\n"
     ]
    }
   ],
   "source": [
    "a = 10\n",
    "b = 20\n",
    "print(a == b)      # equal \n",
    "print(a != b)      # not equal \n",
    "print(a > b)       # greater than\n",
    "print(a < b)       # less than\n",
    "print(a >= b)      # greater or equal \n",
    "print(a <- b)      # less or equal\n",
    "      "
   ]
  },
  {
   "cell_type": "markdown",
   "metadata": {},
   "source": [
    "BITWISE OPERATOR IN PYTHON"
   ]
  },
  {
   "cell_type": "code",
   "execution_count": 12,
   "metadata": {},
   "outputs": [
    {
     "name": "stdout",
     "output_type": "stream",
     "text": [
      "2\n",
      "3\n",
      "-3\n",
      "-4\n",
      "1\n"
     ]
    }
   ],
   "source": [
    "# and or not xor --- LCM FOR FIND BIT (binary number)\n",
    "\n",
    "a = 2       # bit for 2 is 10\n",
    "b = 3       # bit for 3 is 11\n",
    " \n",
    "print(a&b)  # two values must be true   -- 0 - false, 1 - true\n",
    "print(a|b)  # any one must be true \n",
    "print(~a)   # negative value\n",
    "print(~b)\n",
    "print(a^b)  # same value is 0, different value is 1"
   ]
  },
  {
   "cell_type": "markdown",
   "metadata": {},
   "source": [
    "MEMEBERSHIP OPERATORS IN PYTHON"
   ]
  },
  {
   "cell_type": "code",
   "execution_count": 14,
   "metadata": {},
   "outputs": [
    {
     "name": "stdout",
     "output_type": "stream",
     "text": [
      "True\n",
      "False\n",
      "True\n"
     ]
    }
   ],
   "source": [
    "# in not in -- boolean value\n",
    "\n",
    "a = [10, 20, 30]\n",
    "\n",
    "print(10 in a)\n",
    "print(10 not in a)\n",
    "print(3333 not in a)"
   ]
  },
  {
   "cell_type": "markdown",
   "metadata": {},
   "source": [
    "IDENTITY OPERATOR"
   ]
  },
  {
   "cell_type": "code",
   "execution_count": 16,
   "metadata": {},
   "outputs": [
    {
     "name": "stdout",
     "output_type": "stream",
     "text": [
      "140713423346392\n",
      "140713423347032\n",
      "140713423346392\n",
      "140713423346392\n",
      "False\n",
      "True\n",
      "True\n",
      "False\n",
      "True\n"
     ]
    }
   ],
   "source": [
    "# is is not -- value is same or not\n",
    "\n",
    "a = 10\n",
    "b = 30\n",
    "c = 10\n",
    "d = a\n",
    "\n",
    "print(id(a))\n",
    "print(id(b))\n",
    "print(id(c))\n",
    "print(id(d))\n",
    "\n",
    "print(a is b)\n",
    "print(a is c)\n",
    "print(a is not b)\n",
    "print(a is not c)\n",
    "print(d is a)\n",
    "\n"
   ]
  },
  {
   "cell_type": "markdown",
   "metadata": {},
   "source": [
    "IF ELIF ELSE CONDITIONAL STATEMENTS IN PYTHON"
   ]
  },
  {
   "cell_type": "code",
   "execution_count": 17,
   "metadata": {},
   "outputs": [
    {
     "name": "stdout",
     "output_type": "stream",
     "text": [
      "Fail\n"
     ]
    }
   ],
   "source": [
    "mark = 50\n",
    "\n",
    "if  mark > 90:\n",
    "    print(\"A grade\")\n",
    "elif mark < 50:\n",
    "    print(\"B grade\")\n",
    "else:\n",
    "    print(\"Fail\")"
   ]
  },
  {
   "cell_type": "markdown",
   "metadata": {},
   "source": [
    "FOR LOOP AND RANGE FUNCTION"
   ]
  },
  {
   "cell_type": "code",
   "execution_count": 18,
   "metadata": {},
   "outputs": [
    {
     "name": "stdout",
     "output_type": "stream",
     "text": [
      "0\n",
      "1\n",
      "2\n",
      "3\n",
      "4\n",
      "5\n",
      "6\n",
      "7\n",
      "8\n",
      "9\n"
     ]
    }
   ],
   "source": [
    "for i in range(10):     # 0,1,.....,9 = 10 values  -> n - 1 = 11 - 1 = 10\n",
    "    print(i)"
   ]
  },
  {
   "cell_type": "code",
   "execution_count": 19,
   "metadata": {},
   "outputs": [
    {
     "name": "stdout",
     "output_type": "stream",
     "text": [
      "1\n",
      "2\n",
      "3\n",
      "4\n",
      "5\n",
      "6\n",
      "7\n",
      "8\n",
      "9\n",
      "10\n"
     ]
    }
   ],
   "source": [
    "for i in range(1,11):\n",
    "    print(i)"
   ]
  },
  {
   "cell_type": "code",
   "execution_count": 20,
   "metadata": {},
   "outputs": [
    {
     "name": "stdout",
     "output_type": "stream",
     "text": [
      "1\n",
      "4\n",
      "7\n",
      "10\n"
     ]
    }
   ],
   "source": [
    "for i in range(1,11,3):\n",
    "    print(i)\n"
   ]
  },
  {
   "cell_type": "markdown",
   "metadata": {},
   "source": [
    "WHILE LOOP IN PYTHON"
   ]
  },
  {
   "cell_type": "code",
   "execution_count": null,
   "metadata": {},
   "outputs": [],
   "source": []
  }
 ],
 "metadata": {
  "kernelspec": {
   "display_name": "Python 3",
   "language": "python",
   "name": "python3"
  },
  "language_info": {
   "codemirror_mode": {
    "name": "ipython",
    "version": 3
   },
   "file_extension": ".py",
   "mimetype": "text/x-python",
   "name": "python",
   "nbconvert_exporter": "python",
   "pygments_lexer": "ipython3",
   "version": "3.12.3"
  }
 },
 "nbformat": 4,
 "nbformat_minor": 2
}
