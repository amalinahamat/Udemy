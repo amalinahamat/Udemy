{
 "cells": [
  {
   "cell_type": "markdown",
   "metadata": {},
   "source": [
    "VARIABLES IN PYTHON"
   ]
  },
  {
   "cell_type": "code",
   "execution_count": 6,
   "metadata": {},
   "outputs": [
    {
     "name": "stdout",
     "output_type": "stream",
     "text": [
      "10\n",
      "5.46\n",
      "hanan\n",
      "lia\n",
      "<class 'int'>\n",
      "<class 'float'>\n",
      "<class 'str'>\n",
      "<class 'str'>\n"
     ]
    }
   ],
   "source": [
    "a = 10\n",
    "b = 5.46\n",
    "student_name1 = \"hanan\"\n",
    "student_name2 = \"lia\"\n",
    "\n",
    "print(a)\n",
    "print(b)\n",
    "print(student_name1)\n",
    "print(student_name2)\n",
    "\n",
    "# print(type(a))\n",
    "# print(type(b))\n",
    "# print(type(student_name1))\n",
    "# print(type(student_name2))"
   ]
  },
  {
   "cell_type": "markdown",
   "metadata": {},
   "source": [
    "KEYWORDS IN PYTHON"
   ]
  },
  {
   "cell_type": "code",
   "execution_count": 3,
   "metadata": {},
   "outputs": [
    {
     "name": "stdout",
     "output_type": "stream",
     "text": [
      "['False', 'None', 'True', 'and', 'as', 'assert', 'async', 'await', 'break', 'class', 'continue', 'def', 'del', 'elif', 'else', 'except', 'finally', 'for', 'from', 'global', 'if', 'import', 'in', 'is', 'lambda', 'nonlocal', 'not', 'or', 'pass', 'raise', 'return', 'try', 'while', 'with', 'yield']\n"
     ]
    }
   ],
   "source": [
    "import keyword\n",
    "print(keyword.kwlist) # kw is short term for keyword"
   ]
  },
  {
   "cell_type": "markdown",
   "metadata": {},
   "source": [
    "DATATYPES AND TYPE CASTING IN PYTHON"
   ]
  },
  {
   "cell_type": "code",
   "execution_count": 7,
   "metadata": {},
   "outputs": [
    {
     "name": "stdout",
     "output_type": "stream",
     "text": [
      "<class 'int'>\n",
      "<class 'float'>\n",
      "<class 'str'>\n",
      "<class 'bool'>\n",
      "<class 'list'>\n",
      "<class 'tuple'>\n",
      "<class 'dict'>\n"
     ]
    }
   ],
   "source": [
    "a = 10              # int \n",
    "b = 20.7            # float\n",
    "c = \"hello\"         # string\n",
    "d = True            # boolean\n",
    "e = [10, 20, 30]    # list\n",
    "f = (10,20,30)      # tuple\n",
    "g = {\"A\" : 10}      # dictionary -- key and value pairs\n",
    "\n",
    "print(type(a))\n",
    "print(type(b))\n",
    "print(type(c))\n",
    "print(type(d))\n",
    "print(type(e))\n",
    "print(type(f))\n",
    "print(type(g))"
   ]
  },
  {
   "cell_type": "markdown",
   "metadata": {},
   "source": [
    "type casting\n",
    "- convert one data type to another data type"
   ]
  },
  {
   "cell_type": "code",
   "execution_count": 9,
   "metadata": {},
   "outputs": [
    {
     "name": "stdout",
     "output_type": "stream",
     "text": [
      "10.0\n",
      "<class 'float'>\n",
      "(10, 20, 30)\n",
      "<class 'tuple'>\n"
     ]
    }
   ],
   "source": [
    "a = float(a)\n",
    "print(a)\n",
    "print(type(a))\n",
    "\n",
    "e = tuple(e)\n",
    "print(e)\n",
    "print(type(e))"
   ]
  },
  {
   "cell_type": "markdown",
   "metadata": {},
   "source": [
    "ID IN PYTHON - ADDRESS OF VALUE"
   ]
  },
  {
   "cell_type": "code",
   "execution_count": 1,
   "metadata": {},
   "outputs": [
    {
     "name": "stdout",
     "output_type": "stream",
     "text": [
      "140713423346392\n",
      "140713423346392\n",
      "140713423346392\n",
      "140713423346712\n"
     ]
    }
   ],
   "source": [
    "a =  10\n",
    "print(id(a))\n",
    "\n",
    "A = 10\n",
    "print(id(A))\n",
    "\n",
    "b = 10\n",
    "print(id(b))\n",
    "\n",
    "B = 20\n",
    "print(id(B))\n",
    "\n"
   ]
  },
  {
   "cell_type": "markdown",
   "metadata": {},
   "source": [
    "ARITHMETIC OPERATORS IN PYTHON"
   ]
  },
  {
   "cell_type": "code",
   "execution_count": 3,
   "metadata": {},
   "outputs": [
    {
     "name": "stdout",
     "output_type": "stream",
     "text": [
      "30\n",
      "10\n",
      "200\n",
      "2.0\n",
      "2\n",
      "0\n"
     ]
    }
   ],
   "source": [
    "a = 20 \n",
    "b = 10\n",
    "print(a + b)        # addition\n",
    "print(a - b)        # subtraction\n",
    "print(a * b)        # multiplication\n",
    "print(a / b)        # division -- whole\n",
    "print(a // b)       # floor division -- quotient\n",
    "print(a % b)        # modulus -- remainder"
   ]
  },
  {
   "cell_type": "markdown",
   "metadata": {},
   "source": [
    "LOGICAL OPERATORS IN PYTHON"
   ]
  },
  {
   "cell_type": "code",
   "execution_count": 4,
   "metadata": {},
   "outputs": [
    {
     "name": "stdout",
     "output_type": "stream",
     "text": [
      "True\n",
      "True\n",
      "False\n"
     ]
    }
   ],
   "source": [
    "# and or not ---booelan output (True/False)\n",
    "\n",
    "a = 10\n",
    "\n",
    "print(a >= 10 and a < 20)       # two conditions must satisfied\n",
    "print(a > 10 or a < 20)         # any one conditions must satisfied\n",
    "print(not(a >= 10 and a < 20))  # true becomes false and false becomes true"
   ]
  },
  {
   "cell_type": "markdown",
   "metadata": {},
   "source": [
    "COMPARISON OPERATORS IN PYTHON"
   ]
  },
  {
   "cell_type": "code",
   "execution_count": 6,
   "metadata": {},
   "outputs": [
    {
     "name": "stdout",
     "output_type": "stream",
     "text": [
      "False\n",
      "True\n",
      "False\n",
      "True\n",
      "False\n",
      "False\n"
     ]
    }
   ],
   "source": [
    "a = 10\n",
    "b = 20\n",
    "print(a == b)      # equal \n",
    "print(a != b)      # not equal \n",
    "print(a > b)       # greater than\n",
    "print(a < b)       # less than\n",
    "print(a >= b)      # greater or equal \n",
    "print(a <- b)      # less or equal\n",
    "      "
   ]
  },
  {
   "cell_type": "markdown",
   "metadata": {},
   "source": [
    "BITWISE OPERATOR IN PYTHON"
   ]
  },
  {
   "cell_type": "code",
   "execution_count": 12,
   "metadata": {},
   "outputs": [
    {
     "name": "stdout",
     "output_type": "stream",
     "text": [
      "2\n",
      "3\n",
      "-3\n",
      "-4\n",
      "1\n"
     ]
    }
   ],
   "source": [
    "# and or not xor --- LCM FOR FIND BIT (binary number)\n",
    "\n",
    "a = 2       # bit for 2 is 10\n",
    "b = 3       # bit for 3 is 11\n",
    " \n",
    "print(a&b)  # two values must be true   -- 0 - false, 1 - true\n",
    "print(a|b)  # any one must be true \n",
    "print(~a)   # negative value\n",
    "print(~b)\n",
    "print(a^b)  # same value is 0, different value is 1"
   ]
  },
  {
   "cell_type": "markdown",
   "metadata": {},
   "source": [
    "MEMEBERSHIP OPERATORS IN PYTHON"
   ]
  },
  {
   "cell_type": "code",
   "execution_count": 14,
   "metadata": {},
   "outputs": [
    {
     "name": "stdout",
     "output_type": "stream",
     "text": [
      "True\n",
      "False\n",
      "True\n"
     ]
    }
   ],
   "source": [
    "# in not in -- boolean value\n",
    "\n",
    "a = [10, 20, 30]\n",
    "\n",
    "print(10 in a)\n",
    "print(10 not in a)\n",
    "print(3333 not in a)"
   ]
  },
  {
   "cell_type": "markdown",
   "metadata": {},
   "source": [
    "IDENTITY OPERATOR"
   ]
  },
  {
   "cell_type": "code",
   "execution_count": 16,
   "metadata": {},
   "outputs": [
    {
     "name": "stdout",
     "output_type": "stream",
     "text": [
      "140713423346392\n",
      "140713423347032\n",
      "140713423346392\n",
      "140713423346392\n",
      "False\n",
      "True\n",
      "True\n",
      "False\n",
      "True\n"
     ]
    }
   ],
   "source": [
    "# is is not -- value is same or not\n",
    "\n",
    "a = 10\n",
    "b = 30\n",
    "c = 10\n",
    "d = a\n",
    "\n",
    "print(id(a))\n",
    "print(id(b))\n",
    "print(id(c))\n",
    "print(id(d))\n",
    "\n",
    "print(a is b)\n",
    "print(a is c)\n",
    "print(a is not b)\n",
    "print(a is not c)\n",
    "print(d is a)\n",
    "\n"
   ]
  },
  {
   "cell_type": "markdown",
   "metadata": {},
   "source": [
    "IF ELIF ELSE CONDITIONAL STATEMENTS IN PYTHON"
   ]
  },
  {
   "cell_type": "code",
   "execution_count": 17,
   "metadata": {},
   "outputs": [
    {
     "name": "stdout",
     "output_type": "stream",
     "text": [
      "Fail\n"
     ]
    }
   ],
   "source": [
    "mark = 50\n",
    "\n",
    "if  mark > 90:\n",
    "    print(\"A grade\")\n",
    "elif mark < 50:\n",
    "    print(\"B grade\")\n",
    "else:\n",
    "    print(\"Fail\")"
   ]
  },
  {
   "cell_type": "markdown",
   "metadata": {},
   "source": [
    "FOR LOOP AND RANGE FUNCTION"
   ]
  },
  {
   "cell_type": "code",
   "execution_count": 18,
   "metadata": {},
   "outputs": [
    {
     "name": "stdout",
     "output_type": "stream",
     "text": [
      "0\n",
      "1\n",
      "2\n",
      "3\n",
      "4\n",
      "5\n",
      "6\n",
      "7\n",
      "8\n",
      "9\n"
     ]
    }
   ],
   "source": [
    "for i in range(10):     # 0,1,.....,9 = 10 values  -> n - 1 = 11 - 1 = 10\n",
    "    print(i)"
   ]
  },
  {
   "cell_type": "code",
   "execution_count": 19,
   "metadata": {},
   "outputs": [
    {
     "name": "stdout",
     "output_type": "stream",
     "text": [
      "1\n",
      "2\n",
      "3\n",
      "4\n",
      "5\n",
      "6\n",
      "7\n",
      "8\n",
      "9\n",
      "10\n"
     ]
    }
   ],
   "source": [
    "for i in range(1,11):\n",
    "    print(i)"
   ]
  },
  {
   "cell_type": "code",
   "execution_count": 27,
   "metadata": {},
   "outputs": [
    {
     "name": "stdout",
     "output_type": "stream",
     "text": [
      "1\n",
      "4\n",
      "7\n",
      "10\n"
     ]
    }
   ],
   "source": [
    "for i in range(1,11,3):\n",
    "    print(i)\n"
   ]
  },
  {
   "cell_type": "markdown",
   "metadata": {},
   "source": [
    "WHILE LOOP IN PYTHON"
   ]
  },
  {
   "cell_type": "code",
   "execution_count": 31,
   "metadata": {},
   "outputs": [
    {
     "name": "stdout",
     "output_type": "stream",
     "text": [
      "1\n",
      "Hello World\n",
      "2\n",
      "Hello World\n",
      "3\n",
      "Hello World\n",
      "4\n",
      "Hello World\n",
      "5\n",
      "Hello World\n",
      "6\n",
      "Hello World\n",
      "7\n",
      "Hello World\n",
      "8\n",
      "Hello World\n",
      "9\n",
      "Hello World\n"
     ]
    }
   ],
   "source": [
    "i = 1\n",
    "\n",
    "while i < 10:\n",
    "    print(i)\n",
    "    print(\"Hello World\")\n",
    "    i += 1      # 1,2,3......,10 --> 10 < 10 false"
   ]
  },
  {
   "cell_type": "markdown",
   "metadata": {},
   "source": [
    "BREAK AND CONTINUE STATEMENTS"
   ]
  },
  {
   "cell_type": "code",
   "execution_count": 37,
   "metadata": {},
   "outputs": [
    {
     "name": "stdout",
     "output_type": "stream",
     "text": [
      "1\n",
      "2\n",
      "3\n",
      "4\n",
      "1\n",
      "2\n",
      "3\n",
      "4\n",
      "6\n",
      "7\n",
      "8\n",
      "9\n",
      "10\n"
     ]
    }
   ],
   "source": [
    "i = 1\n",
    "j = 1\n",
    "\n",
    "while i <= 10:\n",
    "    if i == 5: \n",
    "        break   # exit loop if 5 comes\n",
    "    print(i)\n",
    "    i += 1\n",
    "\n",
    "while j <= 10:\n",
    "    if j == 5:\n",
    "        j += 1      # need to add this, if not the it will always stuck at number 5, and cannot move to the number after that. it will make infinite loop\n",
    "        continue    # skip 5 the print others.. only skip number 5\n",
    "    print(j)\n",
    "    j += 1"
   ]
  },
  {
   "cell_type": "markdown",
   "metadata": {},
   "source": [
    "FUNCTIONS IN PYTHON"
   ]
  },
  {
   "cell_type": "code",
   "execution_count": 45,
   "metadata": {},
   "outputs": [
    {
     "name": "stdout",
     "output_type": "stream",
     "text": [
      "30\n",
      "20\n"
     ]
    }
   ],
   "source": [
    "# DEF KEYWORDS\n",
    "\n",
    "def addition():\n",
    "    a = 10\n",
    "    b = 20\n",
    "    c = a + b\n",
    "    print(c)\n",
    "\n",
    "addition()\n",
    "\n",
    "def subtraction(m, n):\n",
    "    o = m - n\n",
    "    print(o)\n",
    "\n",
    "m = int(input())\n",
    "n = int(input())\n",
    "\n",
    "subtraction(m,n)\n",
    "\n"
   ]
  },
  {
   "cell_type": "markdown",
   "metadata": {},
   "source": [
    "TRY EXCEPT FINALLY BLOCK"
   ]
  },
  {
   "cell_type": "code",
   "execution_count": 49,
   "metadata": {},
   "outputs": [
    {
     "name": "stdout",
     "output_type": "stream",
     "text": [
      "division by zero\n",
      "amal cute\n"
     ]
    }
   ],
   "source": [
    "# EXCEPTIONS\n",
    "\n",
    "# EXAMPLE : ZERO DIVISION ERROR  --> 10/0 given zero division error\n",
    "try:\n",
    "    a = 10\n",
    "    b = 0\n",
    "\n",
    "    print(a/b)\n",
    "\n",
    "except Exception as e:\n",
    "    print(e)\n",
    "\n",
    "finally:\n",
    "    print(\"amal cute\")"
   ]
  },
  {
   "cell_type": "markdown",
   "metadata": {},
   "source": [
    "STRING FUNCTIONS"
   ]
  },
  {
   "cell_type": "code",
   "execution_count": 57,
   "metadata": {},
   "outputs": [
    {
     "name": "stdout",
     "output_type": "stream",
     "text": [
      "Amal\n",
      "<class 'str'>\n",
      "2027117960272\n",
      "female\n",
      "AMAL\n",
      "Amal\n",
      "1\n",
      "Akal\n",
      "mal\n",
      "lamA\n",
      "4\n"
     ]
    }
   ],
   "source": [
    "name = \"Amal\"\n",
    "\n",
    "print(name)\n",
    "print(type(name))\n",
    "print(id(name))\n",
    "\n",
    "gender = input(\"Enter your gender: \")  # user defined input\n",
    "print(gender)\n",
    "\n",
    "# functions in strings\n",
    "print(name.upper())         # uppercase\n",
    "print(name.capitalize())    # capital first letter in word\n",
    "# print(name.count())\n",
    "print(name.count(\"a\"))\n",
    "print(name.replace(\"m\", \"k\"))\n",
    "\n",
    "# slice\n",
    "print(name[1:4])        # A = 0, m = 1, a = 2, l = 3   ---> index -> n - 1\n",
    "print(name[::-1])       # reverse word\n",
    "print(len(name))"
   ]
  },
  {
   "cell_type": "markdown",
   "metadata": {},
   "source": [
    "LIST IN PYTHON"
   ]
  },
  {
   "cell_type": "code",
   "execution_count": 66,
   "metadata": {},
   "outputs": [
    {
     "name": "stdout",
     "output_type": "stream",
     "text": [
      "[10, 20, 30, 40]\n",
      "[10, 20.4, 'hello']\n",
      "<class 'list'>\n",
      "<class 'list'>\n",
      "2027123272576\n",
      "2027123594624\n",
      "[10, 30, 30, 40]\n",
      "1\n",
      "[30, 30, 40]\n",
      "[10, 30, 30, 40]\n",
      "[40, 30, 30, 10]\n",
      "[40, 30, 30, 10, 10, 20.4, 'hello']\n"
     ]
    }
   ],
   "source": [
    "# mutable --> can add, remove or change\n",
    "\n",
    "a = [10, 20, 30, 40]        # homogeneous -> same datatype\n",
    "b = [10, 20.4, \"hello\"]     # heterogeneous -> different datatype\n",
    "\n",
    "print(a)\n",
    "print(b)\n",
    "\n",
    "print(type(a))\n",
    "print(type(b))\n",
    "\n",
    "print(id(a))\n",
    "print(id(b))\n",
    "\n",
    "# function available in list\n",
    "\n",
    "a[1] = 30           # change value in index 1\n",
    "print(a)\n",
    "\n",
    "print(a.index(30))  # findindex of the value\n",
    "\n",
    "a.remove(10)        # remove value 10 from list\n",
    "print(a)\n",
    "\n",
    "a.insert(0,10)      # insert 10 in the list in index 0\n",
    "print(a)\n",
    "\n",
    "a.sort(reverse=True) # reverse list\n",
    "print(a)\n",
    "\n",
    "a.extend(b)         # combine 2 list\n",
    "print(a)"
   ]
  },
  {
   "cell_type": "markdown",
   "metadata": {},
   "source": [
    "TUPLE IN PYTHON"
   ]
  }
 ],
 "metadata": {
  "kernelspec": {
   "display_name": "Python 3",
   "language": "python",
   "name": "python3"
  },
  "language_info": {
   "codemirror_mode": {
    "name": "ipython",
    "version": 3
   },
   "file_extension": ".py",
   "mimetype": "text/x-python",
   "name": "python",
   "nbconvert_exporter": "python",
   "pygments_lexer": "ipython3",
   "version": "3.12.3"
  }
 },
 "nbformat": 4,
 "nbformat_minor": 2
}
