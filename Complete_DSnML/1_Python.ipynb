{
 "cells": [
  {
   "cell_type": "markdown",
   "metadata": {},
   "source": [
    "VARIABLES IN PYTHON"
   ]
  },
  {
   "cell_type": "code",
   "execution_count": 6,
   "metadata": {},
   "outputs": [
    {
     "name": "stdout",
     "output_type": "stream",
     "text": [
      "10\n",
      "5.46\n",
      "hanan\n",
      "lia\n",
      "<class 'int'>\n",
      "<class 'float'>\n",
      "<class 'str'>\n",
      "<class 'str'>\n"
     ]
    }
   ],
   "source": [
    "a = 10\n",
    "b = 5.46\n",
    "student_name1 = \"hanan\"\n",
    "student_name2 = \"lia\"\n",
    "\n",
    "print(a)\n",
    "print(b)\n",
    "print(student_name1)\n",
    "print(student_name2)\n",
    "\n",
    "# print(type(a))\n",
    "# print(type(b))\n",
    "# print(type(student_name1))\n",
    "# print(type(student_name2))"
   ]
  },
  {
   "cell_type": "markdown",
   "metadata": {},
   "source": [
    "KEYWORDS IN PYTHON"
   ]
  },
  {
   "cell_type": "code",
   "execution_count": 3,
   "metadata": {},
   "outputs": [
    {
     "name": "stdout",
     "output_type": "stream",
     "text": [
      "['False', 'None', 'True', 'and', 'as', 'assert', 'async', 'await', 'break', 'class', 'continue', 'def', 'del', 'elif', 'else', 'except', 'finally', 'for', 'from', 'global', 'if', 'import', 'in', 'is', 'lambda', 'nonlocal', 'not', 'or', 'pass', 'raise', 'return', 'try', 'while', 'with', 'yield']\n"
     ]
    }
   ],
   "source": [
    "import keyword\n",
    "print(keyword.kwlist) # kw is short term for keyword"
   ]
  },
  {
   "cell_type": "markdown",
   "metadata": {},
   "source": [
    "DATATYPES AND TYPE CASTING IN PYTHON"
   ]
  },
  {
   "cell_type": "code",
   "execution_count": 7,
   "metadata": {},
   "outputs": [
    {
     "name": "stdout",
     "output_type": "stream",
     "text": [
      "<class 'int'>\n",
      "<class 'float'>\n",
      "<class 'str'>\n",
      "<class 'bool'>\n",
      "<class 'list'>\n",
      "<class 'tuple'>\n",
      "<class 'dict'>\n"
     ]
    }
   ],
   "source": [
    "a = 10              # int \n",
    "b = 20.7            # float\n",
    "c = \"hello\"         # string\n",
    "d = True            # boolean\n",
    "e = [10, 20, 30]    # list\n",
    "f = (10,20,30)      # tuple\n",
    "g = {\"A\" : 10}      # dictionary -- key and value pairs\n",
    "\n",
    "print(type(a))\n",
    "print(type(b))\n",
    "print(type(c))\n",
    "print(type(d))\n",
    "print(type(e))\n",
    "print(type(f))\n",
    "print(type(g))"
   ]
  },
  {
   "cell_type": "markdown",
   "metadata": {},
   "source": [
    "type casting\n",
    "- convert one data type to another data type"
   ]
  },
  {
   "cell_type": "code",
   "execution_count": 9,
   "metadata": {},
   "outputs": [
    {
     "name": "stdout",
     "output_type": "stream",
     "text": [
      "10.0\n",
      "<class 'float'>\n",
      "(10, 20, 30)\n",
      "<class 'tuple'>\n"
     ]
    }
   ],
   "source": [
    "a = float(a)\n",
    "print(a)\n",
    "print(type(a))\n",
    "\n",
    "e = tuple(e)\n",
    "print(e)\n",
    "print(type(e))"
   ]
  },
  {
   "cell_type": "markdown",
   "metadata": {},
   "source": [
    "ID IN PYTHON - ADDRESS OF VALUE"
   ]
  },
  {
   "cell_type": "code",
   "execution_count": 1,
   "metadata": {},
   "outputs": [
    {
     "name": "stdout",
     "output_type": "stream",
     "text": [
      "140713423346392\n",
      "140713423346392\n",
      "140713423346392\n",
      "140713423346712\n"
     ]
    }
   ],
   "source": [
    "a =  10\n",
    "print(id(a))\n",
    "\n",
    "A = 10\n",
    "print(id(A))\n",
    "\n",
    "b = 10\n",
    "print(id(b))\n",
    "\n",
    "B = 20\n",
    "print(id(B))\n",
    "\n"
   ]
  },
  {
   "cell_type": "markdown",
   "metadata": {},
   "source": [
    "ARITHMETIC OPERATORS IN PYTHON"
   ]
  },
  {
   "cell_type": "code",
   "execution_count": 3,
   "metadata": {},
   "outputs": [
    {
     "name": "stdout",
     "output_type": "stream",
     "text": [
      "30\n",
      "10\n",
      "200\n",
      "2.0\n",
      "2\n",
      "0\n"
     ]
    }
   ],
   "source": [
    "a = 20 \n",
    "b = 10\n",
    "print(a + b)        # addition\n",
    "print(a - b)        # subtraction\n",
    "print(a * b)        # multiplication\n",
    "print(a / b)        # division -- whole\n",
    "print(a // b)       # floor division -- quotient\n",
    "print(a % b)        # modulus -- remainder"
   ]
  },
  {
   "cell_type": "markdown",
   "metadata": {},
   "source": [
    "LOGICAL OPERATORS IN PYTHON"
   ]
  },
  {
   "cell_type": "code",
   "execution_count": 4,
   "metadata": {},
   "outputs": [
    {
     "name": "stdout",
     "output_type": "stream",
     "text": [
      "True\n",
      "True\n",
      "False\n"
     ]
    }
   ],
   "source": [
    "# and or not ---booelan output (True/False)\n",
    "\n",
    "a = 10\n",
    "\n",
    "print(a >= 10 and a < 20)       # two conditions must satisfied\n",
    "print(a > 10 or a < 20)         # any one conditions must satisfied\n",
    "print(not(a >= 10 and a < 20))  # true becomes false and false becomes true"
   ]
  },
  {
   "cell_type": "markdown",
   "metadata": {},
   "source": [
    "COMPARISON OPERATORS IN PYTHON"
   ]
  },
  {
   "cell_type": "code",
   "execution_count": 6,
   "metadata": {},
   "outputs": [
    {
     "name": "stdout",
     "output_type": "stream",
     "text": [
      "False\n",
      "True\n",
      "False\n",
      "True\n",
      "False\n",
      "False\n"
     ]
    }
   ],
   "source": [
    "a = 10\n",
    "b = 20\n",
    "print(a == b)      # equal \n",
    "print(a != b)      # not equal \n",
    "print(a > b)       # greater than\n",
    "print(a < b)       # less than\n",
    "print(a >= b)      # greater or equal \n",
    "print(a <- b)      # less or equal\n",
    "      "
   ]
  },
  {
   "cell_type": "markdown",
   "metadata": {},
   "source": [
    "BITWISE OPERATOR IN PYTHON"
   ]
  },
  {
   "cell_type": "code",
   "execution_count": 12,
   "metadata": {},
   "outputs": [
    {
     "name": "stdout",
     "output_type": "stream",
     "text": [
      "2\n",
      "3\n",
      "-3\n",
      "-4\n",
      "1\n"
     ]
    }
   ],
   "source": [
    "# and or not xor --- LCM FOR FIND BIT (binary number)\n",
    "\n",
    "a = 2       # bit for 2 is 10\n",
    "b = 3       # bit for 3 is 11\n",
    " \n",
    "print(a&b)  # two values must be true   -- 0 - false, 1 - true\n",
    "print(a|b)  # any one must be true \n",
    "print(~a)   # negative value\n",
    "print(~b)\n",
    "print(a^b)  # same value is 0, different value is 1"
   ]
  },
  {
   "cell_type": "markdown",
   "metadata": {},
   "source": [
    "MEMEBERSHIP OPERATORS IN PYTHON"
   ]
  },
  {
   "cell_type": "code",
   "execution_count": 14,
   "metadata": {},
   "outputs": [
    {
     "name": "stdout",
     "output_type": "stream",
     "text": [
      "True\n",
      "False\n",
      "True\n"
     ]
    }
   ],
   "source": [
    "# in not in -- boolean value\n",
    "\n",
    "a = [10, 20, 30]\n",
    "\n",
    "print(10 in a)\n",
    "print(10 not in a)\n",
    "print(3333 not in a)"
   ]
  },
  {
   "cell_type": "markdown",
   "metadata": {},
   "source": [
    "IDENTITY OPERATOR"
   ]
  },
  {
   "cell_type": "code",
   "execution_count": 16,
   "metadata": {},
   "outputs": [
    {
     "name": "stdout",
     "output_type": "stream",
     "text": [
      "140713423346392\n",
      "140713423347032\n",
      "140713423346392\n",
      "140713423346392\n",
      "False\n",
      "True\n",
      "True\n",
      "False\n",
      "True\n"
     ]
    }
   ],
   "source": [
    "# is is not -- value is same or not\n",
    "\n",
    "a = 10\n",
    "b = 30\n",
    "c = 10\n",
    "d = a\n",
    "\n",
    "print(id(a))\n",
    "print(id(b))\n",
    "print(id(c))\n",
    "print(id(d))\n",
    "\n",
    "print(a is b)\n",
    "print(a is c)\n",
    "print(a is not b)\n",
    "print(a is not c)\n",
    "print(d is a)\n",
    "\n"
   ]
  },
  {
   "cell_type": "markdown",
   "metadata": {},
   "source": [
    "IF ELIF ELSE CONDITIONAL STATEMENTS IN PYTHON"
   ]
  },
  {
   "cell_type": "code",
   "execution_count": 17,
   "metadata": {},
   "outputs": [
    {
     "name": "stdout",
     "output_type": "stream",
     "text": [
      "Fail\n"
     ]
    }
   ],
   "source": [
    "mark = 50\n",
    "\n",
    "if  mark > 90:\n",
    "    print(\"A grade\")\n",
    "elif mark < 50:\n",
    "    print(\"B grade\")\n",
    "else:\n",
    "    print(\"Fail\")"
   ]
  },
  {
   "cell_type": "markdown",
   "metadata": {},
   "source": [
    "FOR LOOP AND RANGE FUNCTION"
   ]
  },
  {
   "cell_type": "code",
   "execution_count": 18,
   "metadata": {},
   "outputs": [
    {
     "name": "stdout",
     "output_type": "stream",
     "text": [
      "0\n",
      "1\n",
      "2\n",
      "3\n",
      "4\n",
      "5\n",
      "6\n",
      "7\n",
      "8\n",
      "9\n"
     ]
    }
   ],
   "source": [
    "for i in range(10):     # 0,1,.....,9 = 10 values  -> n - 1 = 11 - 1 = 10\n",
    "    print(i)"
   ]
  },
  {
   "cell_type": "code",
   "execution_count": 19,
   "metadata": {},
   "outputs": [
    {
     "name": "stdout",
     "output_type": "stream",
     "text": [
      "1\n",
      "2\n",
      "3\n",
      "4\n",
      "5\n",
      "6\n",
      "7\n",
      "8\n",
      "9\n",
      "10\n"
     ]
    }
   ],
   "source": [
    "for i in range(1,11):\n",
    "    print(i)"
   ]
  },
  {
   "cell_type": "code",
   "execution_count": 27,
   "metadata": {},
   "outputs": [
    {
     "name": "stdout",
     "output_type": "stream",
     "text": [
      "1\n",
      "4\n",
      "7\n",
      "10\n"
     ]
    }
   ],
   "source": [
    "for i in range(1,11,3):\n",
    "    print(i)\n"
   ]
  },
  {
   "cell_type": "markdown",
   "metadata": {},
   "source": [
    "WHILE LOOP IN PYTHON"
   ]
  },
  {
   "cell_type": "code",
   "execution_count": 31,
   "metadata": {},
   "outputs": [
    {
     "name": "stdout",
     "output_type": "stream",
     "text": [
      "1\n",
      "Hello World\n",
      "2\n",
      "Hello World\n",
      "3\n",
      "Hello World\n",
      "4\n",
      "Hello World\n",
      "5\n",
      "Hello World\n",
      "6\n",
      "Hello World\n",
      "7\n",
      "Hello World\n",
      "8\n",
      "Hello World\n",
      "9\n",
      "Hello World\n"
     ]
    }
   ],
   "source": [
    "i = 1\n",
    "\n",
    "while i < 10:\n",
    "    print(i)\n",
    "    print(\"Hello World\")\n",
    "    i += 1      # 1,2,3......,10 --> 10 < 10 false"
   ]
  },
  {
   "cell_type": "markdown",
   "metadata": {},
   "source": [
    "BREAK AND CONTINUE STATEMENTS"
   ]
  },
  {
   "cell_type": "code",
   "execution_count": 37,
   "metadata": {},
   "outputs": [
    {
     "name": "stdout",
     "output_type": "stream",
     "text": [
      "1\n",
      "2\n",
      "3\n",
      "4\n",
      "1\n",
      "2\n",
      "3\n",
      "4\n",
      "6\n",
      "7\n",
      "8\n",
      "9\n",
      "10\n"
     ]
    }
   ],
   "source": [
    "i = 1\n",
    "j = 1\n",
    "\n",
    "while i <= 10:\n",
    "    if i == 5: \n",
    "        break   # exit loop if 5 comes\n",
    "    print(i)\n",
    "    i += 1\n",
    "\n",
    "while j <= 10:\n",
    "    if j == 5:\n",
    "        j += 1      # need to add this, if not the it will always stuck at number 5, and cannot move to the number after that. it will make infinite loop\n",
    "        continue    # skip 5 the print others.. only skip number 5\n",
    "    print(j)\n",
    "    j += 1"
   ]
  },
  {
   "cell_type": "markdown",
   "metadata": {},
   "source": [
    "FUNCTIONS IN PYTHON"
   ]
  },
  {
   "cell_type": "code",
   "execution_count": 45,
   "metadata": {},
   "outputs": [
    {
     "name": "stdout",
     "output_type": "stream",
     "text": [
      "30\n",
      "20\n"
     ]
    }
   ],
   "source": [
    "# DEF KEYWORDS\n",
    "\n",
    "def addition():\n",
    "    a = 10\n",
    "    b = 20\n",
    "    c = a + b\n",
    "    print(c)\n",
    "\n",
    "addition()\n",
    "\n",
    "def subtraction(m, n):\n",
    "    o = m - n\n",
    "    print(o)\n",
    "\n",
    "m = int(input())\n",
    "n = int(input())\n",
    "\n",
    "subtraction(m,n)\n",
    "\n"
   ]
  },
  {
   "cell_type": "markdown",
   "metadata": {},
   "source": [
    "TRY EXCEPT FINALLY BLOCK"
   ]
  },
  {
   "cell_type": "code",
   "execution_count": 49,
   "metadata": {},
   "outputs": [
    {
     "name": "stdout",
     "output_type": "stream",
     "text": [
      "division by zero\n",
      "amal cute\n"
     ]
    }
   ],
   "source": [
    "# EXCEPTIONS\n",
    "\n",
    "# EXAMPLE : ZERO DIVISION ERROR  --> 10/0 given zero division error\n",
    "try:\n",
    "    a = 10\n",
    "    b = 0\n",
    "\n",
    "    print(a/b)\n",
    "\n",
    "except Exception as e:\n",
    "    print(e)\n",
    "\n",
    "finally:\n",
    "    print(\"amal cute\")"
   ]
  },
  {
   "cell_type": "markdown",
   "metadata": {},
   "source": [
    "STRING FUNCTIONS"
   ]
  },
  {
   "cell_type": "code",
   "execution_count": 57,
   "metadata": {},
   "outputs": [
    {
     "name": "stdout",
     "output_type": "stream",
     "text": [
      "Amal\n",
      "<class 'str'>\n",
      "2027117960272\n",
      "female\n",
      "AMAL\n",
      "Amal\n",
      "1\n",
      "Akal\n",
      "mal\n",
      "lamA\n",
      "4\n"
     ]
    }
   ],
   "source": [
    "name = \"Amal\"\n",
    "\n",
    "print(name)\n",
    "print(type(name))\n",
    "print(id(name))\n",
    "\n",
    "gender = input(\"Enter your gender: \")  # user defined input\n",
    "print(gender)\n",
    "\n",
    "# functions in strings\n",
    "print(name.upper())         # uppercase\n",
    "print(name.capitalize())    # capital first letter in word\n",
    "# print(name.count())\n",
    "print(name.count(\"a\"))\n",
    "print(name.replace(\"m\", \"k\"))\n",
    "\n",
    "# slice\n",
    "print(name[1:4])        # A = 0, m = 1, a = 2, l = 3   ---> index -> n - 1\n",
    "print(name[::-1])       # reverse word\n",
    "print(len(name))"
   ]
  },
  {
   "cell_type": "markdown",
   "metadata": {},
   "source": [
    "LIST IN PYTHON"
   ]
  },
  {
   "cell_type": "code",
   "execution_count": 66,
   "metadata": {},
   "outputs": [
    {
     "name": "stdout",
     "output_type": "stream",
     "text": [
      "[10, 20, 30, 40]\n",
      "[10, 20.4, 'hello']\n",
      "<class 'list'>\n",
      "<class 'list'>\n",
      "2027123272576\n",
      "2027123594624\n",
      "[10, 30, 30, 40]\n",
      "1\n",
      "[30, 30, 40]\n",
      "[10, 30, 30, 40]\n",
      "[40, 30, 30, 10]\n",
      "[40, 30, 30, 10, 10, 20.4, 'hello']\n"
     ]
    }
   ],
   "source": [
    "# mutable --> can add, remove or change\n",
    "\n",
    "a = [10, 20, 30, 40]        # homogeneous -> same datatype\n",
    "b = [10, 20.4, \"hello\"]     # heterogeneous -> different datatype\n",
    "\n",
    "print(a)\n",
    "print(b)\n",
    "\n",
    "print(type(a))\n",
    "print(type(b))\n",
    "\n",
    "print(id(a))\n",
    "print(id(b))\n",
    "\n",
    "# function available in list\n",
    "\n",
    "a[1] = 30           # change value in index 1\n",
    "print(a)\n",
    "\n",
    "print(a.index(30))  # findindex of the value\n",
    "\n",
    "a.remove(10)        # remove value 10 from list\n",
    "print(a)\n",
    "\n",
    "a.insert(0,10)      # insert 10 in the list in index 0\n",
    "print(a)\n",
    "\n",
    "a.sort(reverse=True) # reverse list\n",
    "print(a)\n",
    "\n",
    "a.extend(b)         # combine 2 list\n",
    "print(a)"
   ]
  },
  {
   "cell_type": "markdown",
   "metadata": {},
   "source": [
    "TUPLE IN PYTHON"
   ]
  },
  {
   "cell_type": "code",
   "execution_count": 68,
   "metadata": {},
   "outputs": [
    {
     "name": "stdout",
     "output_type": "stream",
     "text": [
      "(20, 30, 40)\n",
      "<class 'tuple'>\n",
      "2027116572096\n",
      "(20, 30)\n",
      "(20, 30, 40)\n",
      "[20, 30, 40]\n",
      "<class 'list'>\n",
      "2027122855808\n"
     ]
    }
   ],
   "source": [
    "# immutable data type\n",
    "\n",
    "a = (20, 30, 40)        # homogeneous  --> same datatype\n",
    "b = (10, 30.4, \"hello\") # heteregenous --> diffarent datatype\n",
    "\n",
    "print(a)\n",
    "print(type(a))\n",
    "print(id(a))\n",
    "\n",
    "# FUNCTION IN TUPLE\n",
    "\n",
    "# SLICE FUNCTION\n",
    "print(a[0:2])           # n - 1 == 2-1 = 1, 0,1\n",
    "print(a[:])\n",
    "\n",
    "# CONVERT TUPLE TO list\n",
    "\n",
    "a = list(a)\n",
    "\n",
    "print(a)\n",
    "print(type(a))\n",
    "print(id(a))"
   ]
  },
  {
   "cell_type": "markdown",
   "metadata": {},
   "source": [
    "DICTIONARY AND FUNCTIONS"
   ]
  },
  {
   "cell_type": "code",
   "execution_count": 74,
   "metadata": {},
   "outputs": [
    {
     "name": "stdout",
     "output_type": "stream",
     "text": [
      "{'a': 10, 'b': 'Amal', 'c': 20.345}\n",
      "<class 'dict'>\n",
      "dict_keys(['a', 'b', 'c'])\n",
      "dict_values([10, 'Amal', 20.345])\n",
      "dict_items([('a', 10), ('b', 'Amal'), ('c', 20.345)])\n",
      "{'a': 20, 'b': 'Amal', 'c': 20.345}\n",
      "{'a': 20, 'b': 'Amal', 'c': 20.345, 'e': 99}\n"
     ]
    }
   ],
   "source": [
    "# KEY - VALUE PAIRS\n",
    "\n",
    "# MUTABLE DATA TYPE\n",
    "\n",
    "a = {\n",
    "    \"a\" : 10,\n",
    "    \"b\" : \"Amal\",\n",
    "    \"c\" : 20.345\n",
    "    }\n",
    "\n",
    "print(a)\n",
    "print(type(a))\n",
    "\n",
    "# functions\n",
    "\n",
    "print(a.keys())\n",
    "print(a.values())\n",
    "print(a.items())    \n",
    "\n",
    "a[\"a\"] = 20     # change values\n",
    "print(a)\n",
    "\n",
    "a.update({\"e\" : 99})\n",
    "print(a)"
   ]
  },
  {
   "cell_type": "markdown",
   "metadata": {},
   "source": [
    "OBJECT ORIENTED PROGRAMMING (OOP)"
   ]
  },
  {
   "cell_type": "markdown",
   "metadata": {},
   "source": [
    "CLASS AND OBJECTS"
   ]
  },
  {
   "cell_type": "code",
   "execution_count": 75,
   "metadata": {},
   "outputs": [
    {
     "name": "stdout",
     "output_type": "stream",
     "text": [
      "Amal\n",
      "24\n"
     ]
    },
    {
     "data": {
      "text/plain": [
       "'Amal'"
      ]
     },
     "execution_count": 75,
     "metadata": {},
     "output_type": "execute_result"
    }
   ],
   "source": [
    "# class\n",
    "\n",
    "class student:\n",
    "    name = \"Amal\"\n",
    "    age = 24\n",
    "    print(name)\n",
    "    print(age)\n",
    "\n",
    "# object --> to execute the class\n",
    "\n",
    "object1 = student()\n",
    "\n",
    "object1.name\n",
    "object1.age"
   ]
  },
  {
   "cell_type": "markdown",
   "metadata": {},
   "source": [
    "CLASS METHOD"
   ]
  },
  {
   "cell_type": "code",
   "execution_count": 80,
   "metadata": {},
   "outputs": [
    {
     "name": "stdout",
     "output_type": "stream",
     "text": [
      "30\n"
     ]
    }
   ],
   "source": [
    "class maths:\n",
    "\n",
    "    def addition(self): # must write (self/any words) in column\n",
    "        a = 10\n",
    "        b = 20\n",
    "        c = a + b\n",
    "        print(c)\n",
    "\n",
    "object2 = maths()\n",
    "object2.addition()\n",
    "    "
   ]
  },
  {
   "cell_type": "markdown",
   "metadata": {},
   "source": [
    "INHERITANCE"
   ]
  },
  {
   "cell_type": "code",
   "execution_count": 85,
   "metadata": {},
   "outputs": [
    {
     "name": "stdout",
     "output_type": "stream",
     "text": [
      "Amal\n",
      "24\n",
      "1000\n",
      "20\n"
     ]
    }
   ],
   "source": [
    "# child class will use parent class\n",
    "\n",
    "class father:               # father is parent class\n",
    "    def property_(self):\n",
    "        money = 1000\n",
    "        land = 20\n",
    "        print(money)\n",
    "        print(land)\n",
    "    \n",
    "class son(father):          # son is a child class\n",
    "    def child(self):\n",
    "        name = \"Amal\"\n",
    "        age = 24\n",
    "        print(name)\n",
    "        print(age)\n",
    "\n",
    "object3 = son()\n",
    "object3.child()\n",
    "object3.property_()\n",
    "\n",
    "\n",
    "\n",
    "\n"
   ]
  },
  {
   "cell_type": "code",
   "execution_count": 88,
   "metadata": {},
   "outputs": [
    {
     "name": "stdout",
     "output_type": "stream",
     "text": [
      "Amal\n",
      "24\n",
      "1000\n",
      "20\n",
      "9999\n"
     ]
    }
   ],
   "source": [
    "# multiple inheritance\n",
    "\n",
    "# child class will use parent class\n",
    "\n",
    "class father:               # father is parent class\n",
    "    def property_(self):\n",
    "        money = 1000\n",
    "        land = 20\n",
    "        print(money)\n",
    "        print(land)\n",
    "\n",
    "class mother:\n",
    "    def savings(self):\n",
    "        money1 = 9999\n",
    "        print(money1)\n",
    "    \n",
    "class son(father, mother):          # son is a child class\n",
    "    def child(self):\n",
    "        name = \"Amal\"\n",
    "        age = 24\n",
    "        print(name)\n",
    "        print(age)\n",
    "\n",
    "object4 = son()\n",
    "object4.child()\n",
    "object4.property_()\n",
    "object4.savings()\n",
    "\n",
    "\n",
    "\n",
    "\n"
   ]
  },
  {
   "cell_type": "markdown",
   "metadata": {},
   "source": [
    "POLYMORPHISM"
   ]
  },
  {
   "cell_type": "code",
   "execution_count": 1,
   "metadata": {},
   "outputs": [
    {
     "name": "stdout",
     "output_type": "stream",
     "text": [
      "70\n",
      "30\n"
     ]
    }
   ],
   "source": [
    "# METHOD OVERRIDING\n",
    "\n",
    "class maths:\n",
    "\n",
    "    def addition(self):\n",
    "        a = 10\n",
    "        b = 20\n",
    "        print(a+b)\n",
    "\n",
    "class physics(maths):\n",
    "\n",
    "    def addition(self):\n",
    "        a = 30\n",
    "        b = 40\n",
    "        print(a + b)\n",
    "\n",
    "object5 = physics()\n",
    "object6 = maths()\n",
    "object5.addition()\n",
    "object6.addition()\n",
    "\n"
   ]
  },
  {
   "cell_type": "markdown",
   "metadata": {},
   "source": [
    "ENCAPSULATION -> wrapping all the units into a single unit"
   ]
  },
  {
   "cell_type": "code",
   "execution_count": 6,
   "metadata": {},
   "outputs": [
    {
     "name": "stdout",
     "output_type": "stream",
     "text": [
      "100\n",
      "IIUM\n"
     ]
    },
    {
     "ename": "AttributeError",
     "evalue": "'collegee' object has no attribute '__college_name'",
     "output_type": "error",
     "traceback": [
      "\u001b[1;31m---------------------------------------------------------------------------\u001b[0m",
      "\u001b[1;31mAttributeError\u001b[0m                            Traceback (most recent call last)",
      "Cell \u001b[1;32mIn[6], line 30\u001b[0m\n\u001b[0;32m     27\u001b[0m         \u001b[38;5;28mself\u001b[39m\u001b[38;5;241m.\u001b[39m__college_name \u001b[38;5;241m=\u001b[39m \u001b[38;5;124m\"\u001b[39m\u001b[38;5;124mIIUM\u001b[39m\u001b[38;5;124m\"\u001b[39m  \u001b[38;5;66;03m# no one change change the value of variable outside the class\u001b[39;00m\n\u001b[0;32m     29\u001b[0m object8 \u001b[38;5;241m=\u001b[39m collegee()\n\u001b[1;32m---> 30\u001b[0m \u001b[38;5;28mprint\u001b[39m(\u001b[43mobject8\u001b[49m\u001b[38;5;241;43m.\u001b[39;49m\u001b[43m__college_name\u001b[49m)\n",
      "\u001b[1;31mAttributeError\u001b[0m: 'collegee' object has no attribute '__college_name'"
     ]
    }
   ],
   "source": [
    "# PUBLIC, PROTECTED, PRIVATE ACCESS MODIFIERS\n",
    "\n",
    "# PROTECTED ACCESS MODIFIERS --> _ SYNTAX\n",
    "# PRIVATE ACCESS MODIFIERS --> __ SYNTAX\n",
    "\n",
    "\n",
    "# 1. public -> everyone can change the code\n",
    "class college:\n",
    "    def marks(self):\n",
    "        mark = 100\n",
    "        print(mark)\n",
    "\n",
    "object7 = college()\n",
    "object7.marks()\n",
    "\n",
    "# 2. protected\n",
    "class collegee:\n",
    "    def __init__(self):\n",
    "        self._college_name = \"IIUM\"  # no one change change the value of variable outside the class\n",
    "\n",
    "object8 = collegee()\n",
    "print(object8._college_name)\n",
    "\n",
    "# 3. private\n",
    "class collegee:\n",
    "    def __init__(self):\n",
    "        self.__college_name = \"IIUM\"  # no one change change the value of variable outside the class\n",
    "\n",
    "object8 = collegee()\n",
    "print(object8.__college_name)\n",
    "\n"
   ]
  },
  {
   "cell_type": "markdown",
   "metadata": {},
   "source": [
    "ABSTRACTION\n",
    "\n",
    "Abstraction in Python (and in programming in general) is a concept that focuses on exposing only the necessary parts of an object or function while hiding the complex implementation details.\n",
    "\n",
    "An abstract class is a class that contains one or more abstract methods—methods that are declared but contain no implementation. Subclasses of an abstract class must implement all abstract methods."
   ]
  },
  {
   "cell_type": "code",
   "execution_count": 7,
   "metadata": {},
   "outputs": [
    {
     "name": "stdout",
     "output_type": "stream",
     "text": [
      "O Grade\n"
     ]
    }
   ],
   "source": [
    "# inner function will not be visible to the user. only the outer function will be visible\n",
    "\n",
    "import abc # abc => abstraction\n",
    "\n",
    "from abc import ABC, abstractmethod\n",
    "\n",
    "class student(ABC):\n",
    "    def mark(self):\n",
    "        a = 100\n",
    "        print(\"O Grade\")\n",
    "\n",
    "object9 = student()\n",
    "object9.mark()"
   ]
  },
  {
   "cell_type": "code",
   "execution_count": 8,
   "metadata": {},
   "outputs": [
    {
     "name": "stdout",
     "output_type": "stream",
     "text": [
      "Bark\n",
      "Meow\n"
     ]
    }
   ],
   "source": [
    "from abc import ABC, abstractmethod\n",
    "\n",
    "# Define an abstract class\n",
    "class Animal(ABC):\n",
    "    @abstractmethod\n",
    "    def sound(self):\n",
    "        pass  # Abstract method, must be implemented in subclasses\n",
    "\n",
    "# Define a subclass of Animal\n",
    "class Dog(Animal):\n",
    "    def sound(self):\n",
    "        return \"Bark\"  # Implementing the abstract method\n",
    "\n",
    "class Cat(Animal):\n",
    "    def sound(self):\n",
    "        return \"Meow\"  # Implementing the abstract method\n",
    "\n",
    "# Create instances of the subclasses\n",
    "dog = Dog()\n",
    "cat = Cat()\n",
    "\n",
    "print(dog.sound())  # Output: Bark\n",
    "print(cat.sound())  # Output: Meow\n"
   ]
  },
  {
   "cell_type": "markdown",
   "metadata": {},
   "source": [
    "MINI PROJECT"
   ]
  },
  {
   "cell_type": "code",
   "execution_count": 10,
   "metadata": {},
   "outputs": [
    {
     "name": "stdout",
     "output_type": "stream",
     "text": [
      "BMI IS:  27.92666996982118\n",
      "Overweight\n"
     ]
    }
   ],
   "source": [
    "# BMI CALCULATION\n",
    "\n",
    "# VARIABLES => HEIGHT n WEIGHT OF THE PERSON\n",
    "\n",
    "height = float(input(\"Enter you height (mm): \"))\n",
    "weight = float(input(\"Enter your weight (kg): \"))\n",
    "\n",
    "height = height / 100\n",
    "bmi = weight / (height * height)        # formula\n",
    "\n",
    "print(\"BMI IS: \", bmi)\n",
    "\n",
    "if bmi > 0:\n",
    "    if bmi <= 16:\n",
    "        print(\"Underweight\")\n",
    "    elif bmi <= 25:\n",
    "        print(\"Normal weight\")\n",
    "    else:\n",
    "        print(\"Overweight\")\n",
    "else:\n",
    "    print(\"Not valid value\")\n",
    "\n"
   ]
  }
 ],
 "metadata": {
  "kernelspec": {
   "display_name": "Python 3",
   "language": "python",
   "name": "python3"
  },
  "language_info": {
   "codemirror_mode": {
    "name": "ipython",
    "version": 3
   },
   "file_extension": ".py",
   "mimetype": "text/x-python",
   "name": "python",
   "nbconvert_exporter": "python",
   "pygments_lexer": "ipython3",
   "version": "3.12.3"
  }
 },
 "nbformat": 4,
 "nbformat_minor": 2
}
